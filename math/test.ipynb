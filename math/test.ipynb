{
 "cells": [
  {
   "cell_type": "code",
   "execution_count": 52,
   "id": "e758b4ad",
   "metadata": {},
   "outputs": [],
   "source": [
    "import time\n"
   ]
  },
  {
   "cell_type": "code",
   "execution_count": null,
   "id": "fcbde44d",
   "metadata": {},
   "outputs": [],
   "source": [
    "# def IsDivisibleBy3(num):\n",
    "    \n",
    "    \n",
    "#     remainings = 0\n",
    "\n",
    "#     while True:\n",
    "\n",
    "#         quotient = num//10\n",
    "\n",
    "#         remainings = remainings + num%10\n",
    "\n",
    "#         num = quotient\n",
    "\n",
    "#         if quotient <10:\n",
    "#             remainings = remainings + quotient\n",
    "#             break\n",
    "\n",
    "\n",
    "# def IsDivisibleBy5(num):\n",
    "    \n",
    "#     first_digit = num%10\n",
    "    \n",
    "#     if (first_digit == 0) or (first_digit == 5):\n",
    "#         return 1\n",
    "#     else:\n",
    "#         return 0"
   ]
  },
  {
   "cell_type": "code",
   "execution_count": 74,
   "id": "df6df577",
   "metadata": {},
   "outputs": [],
   "source": [
    "n = 3\n",
    "answer = []\n",
    "\n",
    "for i in range(n):\n",
    "\n",
    "    num = i + 1\n",
    "    \n",
    "    if num%15 == 0:\n",
    "        answer.append(\"FizzBuzz\")\n",
    "\n",
    "    elif num%5 == 0:\n",
    "        answer.append(\"Buzz\")\n",
    "\n",
    "    elif num%3 == 0:\n",
    "        answer.append(\"Fizz\")\n",
    "\n",
    "    else:\n",
    "        answer.append(str(num))"
   ]
  },
  {
   "cell_type": "code",
   "execution_count": 69,
   "id": "4be69e10",
   "metadata": {},
   "outputs": [
    {
     "data": {
      "text/plain": [
       "range(0, 5)"
      ]
     },
     "execution_count": 69,
     "metadata": {},
     "output_type": "execute_result"
    }
   ],
   "source": [
    "range(5)"
   ]
  },
  {
   "cell_type": "code",
   "execution_count": null,
   "id": "b4ba6313",
   "metadata": {},
   "outputs": [
    {
     "name": "stdout",
     "output_type": "stream",
     "text": [
      "1\n",
      "--- 0.0011360645294189453 seconds ---\n"
     ]
    }
   ],
   "source": []
  },
  {
   "cell_type": "code",
   "execution_count": null,
   "id": "9b6579c9",
   "metadata": {},
   "outputs": [],
   "source": []
  },
  {
   "cell_type": "code",
   "execution_count": null,
   "id": "f2ec552f",
   "metadata": {},
   "outputs": [],
   "source": []
  },
  {
   "cell_type": "code",
   "execution_count": null,
   "id": "bc2b3a60",
   "metadata": {},
   "outputs": [
    {
     "data": {
      "text/plain": [
       "12"
      ]
     },
     "execution_count": 20,
     "metadata": {},
     "output_type": "execute_result"
    }
   ],
   "source": []
  },
  {
   "cell_type": "code",
   "execution_count": null,
   "id": "4aff3884",
   "metadata": {},
   "outputs": [],
   "source": []
  },
  {
   "cell_type": "code",
   "execution_count": null,
   "id": "443c56de",
   "metadata": {},
   "outputs": [
    {
     "data": {
      "text/plain": [
       "0"
      ]
     },
     "execution_count": 3,
     "metadata": {},
     "output_type": "execute_result"
    }
   ],
   "source": []
  },
  {
   "cell_type": "code",
   "execution_count": 15,
   "id": "d8853462",
   "metadata": {},
   "outputs": [
    {
     "name": "stdout",
     "output_type": "stream",
     "text": [
      "0\n"
     ]
    }
   ],
   "source": [
    "print(IsDivisibleBy5(6))"
   ]
  }
 ],
 "metadata": {
  "kernelspec": {
   "display_name": "Python 3",
   "language": "python",
   "name": "python3"
  },
  "language_info": {
   "codemirror_mode": {
    "name": "ipython",
    "version": 3
   },
   "file_extension": ".py",
   "mimetype": "text/x-python",
   "name": "python",
   "nbconvert_exporter": "python",
   "pygments_lexer": "ipython3",
   "version": "3.8.9"
  }
 },
 "nbformat": 4,
 "nbformat_minor": 5
}
